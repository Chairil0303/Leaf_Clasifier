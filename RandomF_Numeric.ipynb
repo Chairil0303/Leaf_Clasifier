{
  "nbformat": 4,
  "nbformat_minor": 0,
  "metadata": {
    "colab": {
      "provenance": []
    },
    "kernelspec": {
      "name": "python3",
      "display_name": "Python 3"
    },
    "language_info": {
      "name": "python"
    }
  },
  "cells": [
    {
      "cell_type": "code",
      "execution_count": null,
      "metadata": {
        "colab": {
          "base_uri": "https://localhost:8080/"
        },
        "id": "MHBXvfPlrcGe",
        "outputId": "640eb7be-c481-4e9e-a405-e91620f0a764"
      },
      "outputs": [
        {
          "output_type": "stream",
          "name": "stdout",
          "text": [
            "cp: cannot stat 'kaggle.json': No such file or directory\n",
            "chmod: cannot access '/root/.kaggle/kaggle.json': No such file or directory\n",
            "Dataset URL: https://www.kaggle.com/datasets/vipoooool/new-plant-diseases-dataset\n",
            "License(s): copyright-authors\n",
            "Downloading new-plant-diseases-dataset.zip to /content\n",
            "100% 2.69G/2.70G [00:35<00:00, 110MB/s] \n",
            "100% 2.70G/2.70G [00:35<00:00, 81.3MB/s]\n"
          ]
        }
      ],
      "source": [
        "!pip install -q kaggle\n",
        "!mkdir ~/.kaggle\n",
        "!cp kaggle.json ~/.kaggle/\n",
        "!chmod 600 ~/.kaggle/kaggle.json\n",
        "!kaggle datasets download -d 'vipoooool/new-plant-diseases-dataset'"
      ]
    },
    {
      "cell_type": "code",
      "source": [],
      "metadata": {
        "id": "6iYfUXNU1dUI"
      },
      "execution_count": null,
      "outputs": []
    },
    {
      "cell_type": "code",
      "source": [
        "import zipfile\n",
        "dataset_zip=zipfile.ZipFile('/content/new-plant-diseases-dataset.zip','r')\n",
        "dataset_zip.extractall()\n",
        "dataset_zip.close()"
      ],
      "metadata": {
        "id": "BgmNoPuSsYfh"
      },
      "execution_count": null,
      "outputs": []
    },
    {
      "cell_type": "code",
      "source": [
        "import os\n",
        "import cv2\n",
        "import numpy as np\n",
        "from sklearn.ensemble import RandomForestClassifier\n",
        "from sklearn.model_selection import train_test_split\n",
        "from sklearn.metrics import classification_report, accuracy_score"
      ],
      "metadata": {
        "id": "FSbJrcKa1g7a"
      },
      "execution_count": null,
      "outputs": []
    },
    {
      "cell_type": "code",
      "source": [
        "# Path ke folder dataset\n",
        "train_path = '/content/New Plant Diseases Dataset(Augmented)/New Plant Diseases Dataset(Augmented)/train'\n",
        "valid_path = '/content/New Plant Diseases Dataset(Augmented)/New Plant Diseases Dataset(Augmented)/valid'\n",
        "\n",
        "\n",
        "# Fungsi untuk membaca dataset\n",
        "def load_dataset(folder_path):\n",
        "    features = []\n",
        "    labels = []\n",
        "    for class_label in os.listdir(folder_path):\n",
        "        class_folder = os.path.join(folder_path, class_label)\n",
        "        if os.path.isdir(class_folder):\n",
        "            for img_file in os.listdir(class_folder):\n",
        "                img_path = os.path.join(class_folder, img_file)\n",
        "                img = cv2.imread(img_path)\n",
        "                if img is not None:\n",
        "                    # Resize gambar agar seragam (misalnya, 64x64)\n",
        "                    img = cv2.resize(img, (64, 64))\n",
        "                    features.append(img)\n",
        "                    labels.append(class_label)\n",
        "    return np.array(features), np.array(labels)\n",
        "\n",
        "# Load data train dan validasi\n",
        "X_train, y_train = load_dataset(train_path)\n",
        "X_valid, y_valid = load_dataset(valid_path)\n"
      ],
      "metadata": {
        "id": "FXtdXTm85RqA"
      },
      "execution_count": null,
      "outputs": []
    },
    {
      "cell_type": "code",
      "source": [
        "# Encode label menggunakan LabelEncoder\n",
        "label_encoder = LabelEncoder()\n",
        "y_train_encoded = label_encoder.fit_transform(y_train)\n",
        "y_valid_encoded = label_encoder.transform(y_valid)\n"
      ],
      "metadata": {
        "id": "Vn5TFIv87mnP"
      },
      "execution_count": null,
      "outputs": []
    },
    {
      "cell_type": "code",
      "source": [
        "# Fungsi untuk mengekstrak fitur sederhana dari gambar\n",
        "def extract_features(images):\n",
        "    extracted_features = []\n",
        "    for img in images:\n",
        "        # Rata-rata dan standar deviasi untuk tiap kanal (R, G, B)\n",
        "        mean = np.mean(img, axis=(0, 1))\n",
        "        std = np.std(img, axis=(0, 1))\n",
        "        features = np.concatenate((mean, std))\n",
        "        extracted_features.append(features)\n",
        "    return np.array(extracted_features)\n",
        "\n",
        "# Ekstraksi fitur untuk data train dan validasi\n",
        "X_train_features = extract_features(X_train)\n",
        "X_valid_features = extract_features(X_valid)\n"
      ],
      "metadata": {
        "id": "moUSJCgh7-27"
      },
      "execution_count": null,
      "outputs": []
    },
    {
      "cell_type": "code",
      "source": [
        "# Inisialisasi dan latih model Random Forest\n",
        "rf_model = RandomForestClassifier(n_estimators=100, random_state=42)\n",
        "rf_model.fit(X_train_features, y_train_encoded)\n",
        "\n",
        "# Prediksi data validasi\n",
        "y_pred = rf_model.predict(X_valid_features)\n"
      ],
      "metadata": {
        "id": "SiIuZgAG8ElA"
      },
      "execution_count": null,
      "outputs": []
    },
    {
      "cell_type": "code",
      "source": [
        "# Evaluasi hasil\n",
        "print(\"Classification Report:\")\n",
        "print(classification_report(y_valid_encoded, y_pred, target_names=label_encoder.classes_))\n",
        "print(\"Accuracy Score:\", accuracy_score(y_valid_encoded, y_pred))\n"
      ],
      "metadata": {
        "colab": {
          "base_uri": "https://localhost:8080/"
        },
        "id": "JvODes_39U8f",
        "outputId": "de261aa6-997c-43b7-de3b-d556671390d4"
      },
      "execution_count": null,
      "outputs": [
        {
          "output_type": "stream",
          "name": "stdout",
          "text": [
            "Classification Report:\n",
            "                                                    precision    recall  f1-score   support\n",
            "\n",
            "                                Apple___Apple_scab       0.86      0.87      0.86       504\n",
            "                                 Apple___Black_rot       0.76      0.86      0.81       497\n",
            "                          Apple___Cedar_apple_rust       0.84      0.87      0.86       440\n",
            "                                   Apple___healthy       0.88      0.86      0.87       502\n",
            "                               Blueberry___healthy       0.78      0.77      0.77       454\n",
            "          Cherry_(including_sour)___Powdery_mildew       0.82      0.87      0.85       421\n",
            "                 Cherry_(including_sour)___healthy       0.95      0.98      0.96       456\n",
            "Corn_(maize)___Cercospora_leaf_spot Gray_leaf_spot       0.84      0.87      0.86       410\n",
            "                       Corn_(maize)___Common_rust_       0.94      0.99      0.96       477\n",
            "               Corn_(maize)___Northern_Leaf_Blight       0.85      0.89      0.87       477\n",
            "                            Corn_(maize)___healthy       0.98      0.99      0.99       465\n",
            "                                 Grape___Black_rot       0.76      0.89      0.82       472\n",
            "                      Grape___Esca_(Black_Measles)       0.77      0.89      0.83       480\n",
            "        Grape___Leaf_blight_(Isariopsis_Leaf_Spot)       0.86      0.94      0.90       430\n",
            "                                   Grape___healthy       0.85      0.95      0.89       423\n",
            "          Orange___Haunglongbing_(Citrus_greening)       0.82      0.70      0.75       503\n",
            "                            Peach___Bacterial_spot       0.62      0.42      0.50       459\n",
            "                                   Peach___healthy       0.85      0.94      0.89       432\n",
            "                     Pepper,_bell___Bacterial_spot       0.84      0.90      0.87       478\n",
            "                            Pepper,_bell___healthy       0.74      0.53      0.62       497\n",
            "                             Potato___Early_blight       0.89      0.96      0.92       485\n",
            "                              Potato___Late_blight       0.80      0.91      0.85       485\n",
            "                                  Potato___healthy       0.85      0.92      0.88       456\n",
            "                               Raspberry___healthy       0.86      0.93      0.89       445\n",
            "                                 Soybean___healthy       0.86      0.79      0.82       505\n",
            "                           Squash___Powdery_mildew       0.79      0.79      0.79       434\n",
            "                          Strawberry___Leaf_scorch       0.88      0.95      0.91       444\n",
            "                              Strawberry___healthy       0.89      0.94      0.92       456\n",
            "                           Tomato___Bacterial_spot       0.75      0.65      0.70       425\n",
            "                             Tomato___Early_blight       0.84      0.91      0.87       480\n",
            "                              Tomato___Late_blight       0.81      0.58      0.68       463\n",
            "                                Tomato___Leaf_Mold       0.91      0.94      0.92       470\n",
            "                       Tomato___Septoria_leaf_spot       0.84      0.53      0.65       436\n",
            "     Tomato___Spider_mites Two-spotted_spider_mite       0.73      0.74      0.74       435\n",
            "                              Tomato___Target_Spot       0.74      0.68      0.71       457\n",
            "            Tomato___Tomato_Yellow_Leaf_Curl_Virus       0.68      0.58      0.62       490\n",
            "                      Tomato___Tomato_mosaic_virus       0.85      0.94      0.89       448\n",
            "                                  Tomato___healthy       0.83      0.88      0.86       481\n",
            "\n",
            "                                          accuracy                           0.83     17572\n",
            "                                         macro avg       0.83      0.83      0.83     17572\n",
            "                                      weighted avg       0.83      0.83      0.83     17572\n",
            "\n",
            "Accuracy Score: 0.8306965627134077\n"
          ]
        }
      ]
    }
  ]
}